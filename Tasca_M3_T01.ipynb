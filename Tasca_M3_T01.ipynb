{
 "cells": [
  {
   "cell_type": "markdown",
   "id": "cc23d610",
   "metadata": {},
   "source": [
    "# Exercici 1\n",
    "\n",
    "Crea una funció que donat un Array d’una dimensió, et faci un resum estadístic bàsic de les dades. Si detecta que l’array \n",
    "té més d’una dimensió, ha de mostrar un missatge d’error.\n",
    "\n"
   ]
  },
  {
   "cell_type": "code",
   "execution_count": 1,
   "id": "83df3038",
   "metadata": {},
   "outputs": [],
   "source": [
    "# Primer de tot cridem la llibreria \"numpy\" que farem servir per desenvolupar les opercions següents.\n",
    "\n",
    "import numpy as np"
   ]
  },
  {
   "cell_type": "code",
   "execution_count": 2,
   "id": "6d893908",
   "metadata": {
    "scrolled": true
   },
   "outputs": [
    {
     "name": "stdout",
     "output_type": "stream",
     "text": [
      "Resum Estadístic Bàsic\n",
      "Mitjana               : 12.0\n",
      "Mitja                 : 12.9\n",
      "Desviació estàndard   : 8.560957890329796\n",
      "Variança              : 73.28999999999999\n"
     ]
    }
   ],
   "source": [
    "def stat_summ(array):                                         # definim la funció amb un array com a argument\n",
    "                                                              # tot el següent fins el \"if\" será la descripció estadística\n",
    "    print(\"Resum Estadístic Bàsic\")                             \n",
    "    print(\"Mitjana               :\", np.median(array))\n",
    "    print(\"Mitja                 :\", np.mean(array))\n",
    "    print(\"Desviació estàndard   :\", np.std(array))\n",
    "    print(\"Variança              :\", np.var(array))\n",
    "    \n",
    "    if array.ndim != 1:                                       # Ara fem servir .ndim per corrobar si l'array que hi posarem tindrà més d'una dimensió\n",
    "        print(\"Error! Aquest array té més d'una dimensió\")\n",
    "\n",
    "numeros_primos = [2, 3, 5, 7, 11, 13, 17, 19, 23, 29]         # Ara creem l'array a partir d'una llista prèvia\n",
    "array_primos = np.array(numeros_primos)\n",
    "stat_summ(array_primos)                                       # Ara cridem la funció i com que l'array ès d'una dimensió doncs no ens avisa d'error."
   ]
  },
  {
   "cell_type": "markdown",
   "id": "fc91e2b7",
   "metadata": {},
   "source": [
    "# Exercici 2"
   ]
  },
  {
   "cell_type": "markdown",
   "id": "a5e65eb1",
   "metadata": {},
   "source": [
    "Crea una funció que et generi un quadrat NxN de nombres aleatoris entre el 0 i el 100."
   ]
  },
  {
   "cell_type": "code",
   "execution_count": 3,
   "id": "b0e02186",
   "metadata": {},
   "outputs": [
    {
     "name": "stdout",
     "output_type": "stream",
     "text": [
      "[[32 30 60  6 56]\n",
      " [23 55 70 79 88]\n",
      " [ 7 71 28 78 37]\n",
      " [60 42 58 62 62]\n",
      " [24 84 52 12 89]]\n"
     ]
    }
   ],
   "source": [
    "def  crea_quadrat(t):                                  # definim la funció amb l'argument \"t\" on posarem el tamany de la matriu\n",
    "    return np.random.randint(0, 100, size=(t,t))       # la funció tornarà un valor aleatori entero entre 0 i 100 amb una quantit de elements igual en files com a les columnes\n",
    "                                                       \n",
    "matriu = crea_quadrat(5)                               # Ara creem la variable que crida a la funció amb l'argument específic del nombre de elements per files i columnes\n",
    "print(matriu)                                          # imprimim la variable amb la execució de la funció\n"
   ]
  },
  {
   "cell_type": "markdown",
   "id": "9444da39",
   "metadata": {},
   "source": [
    "### Exercici 3\n",
    "\n",
    "Crea una funció que donada una taula de dues dimensions (NxM), et calculi els totals per fila i els totals per columna."
   ]
  },
  {
   "cell_type": "code",
   "execution_count": 65,
   "id": "3f5bea62",
   "metadata": {},
   "outputs": [
    {
     "name": "stdout",
     "output_type": "stream",
     "text": [
      "Els totals per columnes son  [18 22 26]\n",
      "Els totals per files son  [ 3 12 21 30]\n"
     ]
    }
   ],
   "source": [
    "def calcul(taula):                             # Creem la funció amb l'argument \"taula\"\n",
    "    col = np.sum(a, axis=0)                    # Ara creem la variable que farà la operació per obtenir la suma total pero columnes amb l'eix 0\n",
    "    fil = np.sum(a, axis=1)                    # idem a les columnes pero ara amb les files\n",
    "    \n",
    "    print(\"Els totals per columnes son \", col) # Fem la redacció per imprimir posteriorment, cridant el càlcul fet dins de la variable\n",
    "    print(\"Els totals per files son \", fil)    # Idem \n",
    "    \n",
    "a = np.arange(12).reshape(4,3)                 # Creem la taula. De dues dimensions a partir d'un rang de 12 elements\n",
    "resultat = calcul(a)                           # Ara cridem la funció afegint la taula\n",
    "resultat                                       # Imprimim el resultat"
   ]
  },
  {
   "cell_type": "markdown",
   "id": "8a87f5ac",
   "metadata": {},
   "source": [
    "### Exercici 4\n",
    "\n",
    "Implementa manualment una funció que calculi el coeficient de correlació. Informa-te'n sobre els seus usos i interpretació."
   ]
  },
  {
   "cell_type": "code",
   "execution_count": 80,
   "id": "8bc62d0e",
   "metadata": {},
   "outputs": [
    {
     "name": "stdout",
     "output_type": "stream",
     "text": [
      "El coeficient de correlació calculat manualment és =  0.9723464829857159\n",
      " El coeficient de correlació calculat automáticament és =  [[1.         0.97234648]\n",
      " [0.97234648 1.        ]]\n"
     ]
    }
   ],
   "source": [
    "def coef_r(x, y):                                             # fem una funció amb dos paràmetres que seràn els dos arrays d'on es calcularà el coeficient de correlació\n",
    "                                                              # En el coef de correlació hem de calcular principalment desviacions, tant del array \"a\" com del array \"b\"\n",
    "    a_mean         = np.mean(a)                               # per axiò calculem la mitja\n",
    "    b_mean         = np.mean(b)                               # idem\n",
    "    desviacio_a    = a - a_mean                               # calculem desviació\n",
    "    desviacio_b    = b - b_mean                               # idem\n",
    "    covariança     = np.sum(desviacio_a * desviacio_b)        # Tot el que hem calculat finalment es tradueix en el càlcul de la covarinça (numerador)\n",
    "    \n",
    "    # Ara ve la segonda part. El denominador\n",
    "    \n",
    "    desviacio_a_sq = desviacio_a**2                                           # necessitem els quadrats de les desviacions\n",
    "    desviacio_b_sq = desviacio_b**2                                           # idem\n",
    "    denominador    = np.sqrt(np.sum(desviacio_a_sq) * np.sum(desviacio_b_sq)) # Per finalment calcular el final de segona part (el denominador)\n",
    "    \n",
    "    print(\"El coeficient de correlació calculat manualment és = \", covariança / denominador) # Per últim imprimim el resultat de l'ecuació divideix la covariança per el denomnador.\n",
    "\n",
    "a = alçada_cm = np.array([50, 65, 70, 85, 100, 125, 145, 160, 175, 180])      # Creem el primer array\n",
    "b = edat_anys = np.array([5, 8, 9, 11, 13, 14, 15, 17, 20, 23])               # ara el segon\n",
    "r = coef_r(a,b)                                                               # Ara cridem la funció amb els parámetres/arrays creats.\n",
    "\n",
    "print(\" El coeficient de correlació calculat automáticament és = \", np.corrcoef(a,b)) # Fem servir l'ecuació automàtica per corroborar.\n",
    "\n",
    "\n",
    "\n",
    "\"\"\" El coeficient de Correlació de de Person (o la r de Person) és de molta utilitat quan necessitem evaluar la relació \n",
    "entre dues variables amb categories ordinales. La correlación pot variar entre -1 y + 1. El valor \"0\" indica que no hi \n",
    "ha cap relació lineal entre les variables. Si el valor s'apropa a 1 doncs estem parlant d'una alta relació positiva, es a dir,\n",
    "que cada vegada que les dades d'una variable augmentan en un sentit, l'altre fa el mateix. Es el cas del meu exemple entre \n",
    "la alçada d'una persona i la seva edat. El meu exemple té r de Person de 0.972 per tant porta una forta relació positiva entre\n",
    "les variables. Mentre que una persona es fa més gran (més edat), augmenta la seva alçada i viceversa.\"\"\"\n"
   ]
  },
  {
   "cell_type": "code",
   "execution_count": null,
   "id": "4c1133a4",
   "metadata": {},
   "outputs": [],
   "source": []
  }
 ],
 "metadata": {
  "kernelspec": {
   "display_name": "Python 3 (ipykernel)",
   "language": "python",
   "name": "python3"
  },
  "language_info": {
   "codemirror_mode": {
    "name": "ipython",
    "version": 3
   },
   "file_extension": ".py",
   "mimetype": "text/x-python",
   "name": "python",
   "nbconvert_exporter": "python",
   "pygments_lexer": "ipython3",
   "version": "3.9.12"
  },
  "latex_envs": {
   "LaTeX_envs_menu_present": true,
   "autoclose": false,
   "autocomplete": true,
   "bibliofile": "biblio.bib",
   "cite_by": "apalike",
   "current_citInitial": 1,
   "eqLabelWithNumbers": true,
   "eqNumInitial": 1,
   "hotkeys": {
    "equation": "Ctrl-E",
    "itemize": "Ctrl-I"
   },
   "labels_anchors": false,
   "latex_user_defs": false,
   "report_style_numbering": false,
   "user_envs_cfg": false
  }
 },
 "nbformat": 4,
 "nbformat_minor": 5
}
